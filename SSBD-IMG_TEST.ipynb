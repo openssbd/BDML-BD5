{
 "cells": [
  {
   "cell_type": "code",
   "execution_count": 2,
   "metadata": {
    "collapsed": true
   },
   "outputs": [],
   "source": [
    "import requests\n",
    "\n",
    "SSBD_BASE_URL = \"http://ssbd.qbic.riken.jp/image\""
   ]
  },
  {
   "cell_type": "code",
   "execution_count": 3,
   "metadata": {},
   "outputs": [
    {
     "name": "stdout",
     "output_type": "stream",
     "text": [
      "Successfully connected to OMERO\n",
      "http://ssbd.qbic.riken.jp/image/webclient\n"
     ]
    }
   ],
   "source": [
    "url = \"%s/webclient\" % SSBD_BASE_URL\n",
    "\n",
    "if requests.session().get(url).status_code == 200:\n",
    "    print(\"Successfully connected to OMERO\")\n",
    "\n",
    "print(url)"
   ]
  },
  {
   "cell_type": "code",
   "execution_count": 4,
   "metadata": {},
   "outputs": [
    {
     "data": {
      "text/html": [
       "<img src='http://ssbd.qbic.riken.jp/image/webgateway/render_image/36874/0/0/' />"
      ],
      "text/plain": [
       "<IPython.core.display.HTML object>"
      ]
     },
     "metadata": {},
     "output_type": "display_data"
    }
   ],
   "source": [
    "from IPython.display import display, HTML\n",
    "\n",
    "IMAGE_ID = 36874\n",
    "TMP_URL = \"{base}/webgateway/render_image/{image_id}/0/0/\"\n",
    "qs = {'base': SSBD_BASE_URL, 'image_id': IMAGE_ID}\n",
    "\n",
    "url = TMP_URL.format(**qs)\n",
    "display(HTML(\"<img src='%s' />\" % url))"
   ]
  },
  {
   "cell_type": "code",
   "execution_count": 5,
   "metadata": {},
   "outputs": [
    {
     "data": {
      "image/png": "[encoded data removed]",
      "text/plain": [
       "<matplotlib.figure.Figure at 0x1088a8810>"
      ]
     },
     "metadata": {},
     "output_type": "display_data"
    }
   ],
   "source": [
    "import cv2\n",
    "import numpy as np\n",
    "import urllib\n",
    "from PIL import Image\n",
    "import matplotlib.pyplot as plt\n",
    "\n",
    "def url_to_image(url):\n",
    "    resp = urllib.urlopen(url)\n",
    "    image = np.asarray(bytearray(resp.read()), dtype=\"uint8\")\n",
    "    image = cv2.imdecode(image, cv2.IMREAD_COLOR)\n",
    "    return image\n",
    "\n",
    "image = url_to_image(url)\n",
    "\n",
    "thresh = 100\n",
    "max_pixel = 255\n",
    "ret, img_dst = cv2.threshold(image, thresh, max_pixel, cv2.THRESH_BINARY)\n",
    "dst_list = np.asarray(img_dst)\n",
    "plt.imshow(dst_list)\n",
    "plt.show()"
   ]
  },
  {
   "cell_type": "code",
   "execution_count": null,
   "metadata": {
    "collapsed": true
   },
   "outputs": [],
   "source": []
  }
 ],
 "metadata": {
  "kernelspec": {
   "display_name": "Python 2",
   "language": "python",
   "name": "python2"
  },
  "language_info": {
   "codemirror_mode": {
    "name": "ipython",
    "version": 2
   },
   "file_extension": ".py",
   "mimetype": "text/x-python",
   "name": "python",
   "nbconvert_exporter": "python",
   "pygments_lexer": "ipython2",
   "version": "2.7.13"
  }
 },
 "nbformat": 4,
 "nbformat_minor": 2
}
