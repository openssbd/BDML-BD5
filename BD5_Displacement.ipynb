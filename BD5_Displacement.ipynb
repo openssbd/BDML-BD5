{
 "cells": [
  {
   "cell_type": "code",
   "execution_count": 2,
   "metadata": {},
   "outputs": [
    {
     "name": "stdout",
     "output_type": "stream",
     "text": [
      "displacement of ABal nucleus: 177.573637766 micrometer\n",
      "elapsed_time:4.25666189194[sec]\n"
     ]
    }
   ],
   "source": [
    "import h5py\n",
    "import time\n",
    "import math\n",
    "\n",
    "if __name__ == '__main__':\n",
    "    start = time.time()\n",
    "\n",
    "    file = \"081505_L1_bd5.h5\"\n",
    "    f = h5py.File(file, \"r\")\n",
    "    groups= f['data']\n",
    "    \n",
    "    count = 0\n",
    "    mov = tmpx = tmpy = tmpz = 0.0\n",
    "    while (str(count) in groups.keys()):\n",
    "        name = \"/data/\" + str(count) + \"/object/0\"\n",
    "        dset = f[name]\n",
    "        for i in range(dset.len()):\n",
    "            if (dset[i, 'label'] == 'ABal'):\n",
    "                if (tmpx == 0.0 and tmpy == 0.0 and tmpz == 0.0):\n",
    "                    tmpx = dset[i, 'x']\n",
    "                    tmpy = dset[i, 'y']\n",
    "                    tmpz = dset[i, 'z']\n",
    "                else:\n",
    "                    mov = mov + math.sqrt((dset[i, 'x'] - tmpx) * (dset[i, 'x'] - tmpx) + (dset[i, 'y'] - tmpy) * (dset[i, 'y'] - tmpy) + (dset[i, 'z'] - tmpz) * (dset[i, 'z'] - tmpz))\n",
    "                    tmpx = dset[i, 'x']\n",
    "                    tmpy = dset[i, 'y']\n",
    "                    tmpz = dset[i, 'z']\n",
    "        count = count + 1\n",
    "        \n",
    "    print (\"displacement of ABal nucleus: \" + format(mov) + \" micrometer\")\n",
    "    elapsed_time = time.time() - start\n",
    "    print (\"elapsed_time:{0}\".format(elapsed_time) + \"[sec]\")"
   ]
  },
  {
   "cell_type": "code",
   "execution_count": null,
   "metadata": {
    "collapsed": true
   },
   "outputs": [],
   "source": []
  }
 ],
 "metadata": {
  "kernelspec": {
   "display_name": "Python 2",
   "language": "python",
   "name": "python2"
  },
  "language_info": {
   "codemirror_mode": {
    "name": "ipython",
    "version": 2
   },
   "file_extension": ".py",
   "mimetype": "text/x-python",
   "name": "python",
   "nbconvert_exporter": "python",
   "pygments_lexer": "ipython2",
   "version": "2.7.13"
  }
 },
 "nbformat": 4,
 "nbformat_minor": 2
}
